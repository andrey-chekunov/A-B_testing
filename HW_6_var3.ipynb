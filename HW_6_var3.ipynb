{
 "cells": [
  {
   "cell_type": "code",
   "execution_count": 8,
   "metadata": {},
   "outputs": [],
   "source": [
    "import numpy as np\n",
    "from scipy.stats import norm, t\n",
    "import math\n",
    "import scipy.stats as stats"
   ]
  },
  {
   "attachments": {},
   "cell_type": "markdown",
   "metadata": {},
   "source": [
    "Задача 1 \n",
    "\n",
    "Продакт на главной mail.ru решил протестировать в рекомендательной ленте контента вместо карточек со статьями видеоплеер с короткими видео. Нынешний таймспент на юзера в день в среднем равен 25 минут, а стандартная ошибка (SD) равна 156. Мы предполагаем, что в новой версии таймспент на юзера в день изменится на 10%. Средний трафик 20000 человек в день. Посчитайте сколько дней необходимо держать эксперимент при alpha = 5% и beta = 20% ."
   ]
  },
  {
   "cell_type": "code",
   "execution_count": 3,
   "metadata": {},
   "outputs": [],
   "source": [
    "n = 20000  # среднее количество юзеров в день\n",
    "sd = 156  # стандартная ошибка\n",
    "alpha = 0.05  # уровень значимости\n",
    "beta = 0.2  # вероятность ошибки второго рода\n",
    "prop_diff = 0.1  # относительное изменение таймспента 10%"
   ]
  },
  {
   "attachments": {},
   "cell_type": "markdown",
   "metadata": {},
   "source": [
    "Считаем необходимые статистические значения:"
   ]
  },
  {
   "cell_type": "code",
   "execution_count": 4,
   "metadata": {},
   "outputs": [],
   "source": [
    "se = sd / np.sqrt(n)  # стандартная ошибка среднего\n",
    "m = se * norm.ppf(1 - alpha/2)  # граница для доверительного интервала\n",
    "delta = prop_diff * n  # абсолютное изменение таймспента"
   ]
  },
  {
   "attachments": {},
   "cell_type": "markdown",
   "metadata": {},
   "source": [
    "Определяем критические значения для тестов:"
   ]
  },
  {
   "cell_type": "code",
   "execution_count": 5,
   "metadata": {},
   "outputs": [],
   "source": [
    "z_alpha = norm.ppf(1 - alpha)  \n",
    "z_beta = norm.ppf(1 - beta) "
   ]
  },
  {
   "attachments": {},
   "cell_type": "markdown",
   "metadata": {},
   "source": [
    "Определяем необходимое время эксперимента:"
   ]
  },
  {
   "cell_type": "code",
   "execution_count": 7,
   "metadata": {},
   "outputs": [
    {
     "data": {
      "text/plain": [
       "1.0"
      ]
     },
     "execution_count": 7,
     "metadata": {},
     "output_type": "execute_result"
    }
   ],
   "source": [
    "n_1 = (z_alpha*m + z_beta*sd/delta)**2\n",
    "n_2 = (z_alpha*m - z_beta*sd/delta)**2\n",
    "n_round = np.ceil(max(n_1, n_2))\n",
    "days = np.ceil(n_round/n)  # количество дней\n",
    "days"
   ]
  },
  {
   "attachments": {},
   "cell_type": "markdown",
   "metadata": {},
   "source": [
    "ОТВЕТ:\n",
    "\n",
    "1 день"
   ]
  },
  {
   "attachments": {},
   "cell_type": "markdown",
   "metadata": {},
   "source": [
    "Задача 2 \n",
    "\n",
    "Наша продуктовая команда в ecommerce магазине планирует запустить тест, направленный на ускорение загрузки сайта. Одна из основных метрик bounce rate в GA = 40%. Мы предполагаем, что при оптимизации сайта она изменится минимум на 20%.Средний трафик 4000 человек в день. Посчитайте сколько нам нужно дней держать эксперимент при alpha = 5% и beta = 20%\n",
    "\n",
    "Отказы - показатель качественный, т.к. проценты"
   ]
  },
  {
   "attachments": {},
   "cell_type": "markdown",
   "metadata": {},
   "source": [
    "Определим функцию для расчета необходимого размера выборки:"
   ]
  },
  {
   "cell_type": "code",
   "execution_count": 9,
   "metadata": {},
   "outputs": [],
   "source": [
    "def sample_size(mean1, mean2, alpha, beta, power, baseline):\n",
    "    std1 = math.sqrt(baseline * (1 - baseline))\n",
    "    z_alpha = stats.norm.ppf(1 - alpha / 2)\n",
    "    z_beta = stats.norm.ppf(power)\n",
    "    std2 = std1 * math.sqrt((baseline - mean2) ** 2 / (mean1 - mean2) ** 2)\n",
    "    return ((std1 * z_alpha + std2 * z_beta) / (mean1 - mean2)) ** 2"
   ]
  },
  {
   "attachments": {},
   "cell_type": "markdown",
   "metadata": {},
   "source": [
    "Теперь вызовем функцию c округлением до целого числа и получим результат:"
   ]
  },
  {
   "cell_type": "code",
   "execution_count": 13,
   "metadata": {},
   "outputs": [
    {
     "data": {
      "text/plain": [
       "5.232586489566057"
      ]
     },
     "execution_count": 13,
     "metadata": {},
     "output_type": "execute_result"
    }
   ],
   "source": [
    "sample_size(mean1=0.4, mean2=-0.2, alpha=0.05, beta=0.2, power=0.8, baseline=0.4)"
   ]
  },
  {
   "attachments": {},
   "cell_type": "markdown",
   "metadata": {},
   "source": [
    "ОТВЕТ:\n",
    "\n",
    "5 дней"
   ]
  }
 ],
 "metadata": {
  "kernelspec": {
   "display_name": "Python 3",
   "language": "python",
   "name": "python3"
  },
  "language_info": {
   "codemirror_mode": {
    "name": "ipython",
    "version": 3
   },
   "file_extension": ".py",
   "mimetype": "text/x-python",
   "name": "python",
   "nbconvert_exporter": "python",
   "pygments_lexer": "ipython3",
   "version": "3.10.7"
  },
  "orig_nbformat": 4
 },
 "nbformat": 4,
 "nbformat_minor": 2
}
