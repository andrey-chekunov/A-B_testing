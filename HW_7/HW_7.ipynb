{
  "cells": [
    {
      "attachments": {},
      "cell_type": "markdown",
      "metadata": {
        "id": "BkDrEAIk2aV3"
      },
      "source": [
        "Ключевые метрики:\n",
        "\n",
        "1. Количество новых регистраций пользователей;\n",
        "2. Доход от новых пользователей.\n",
        "\n",
        " Гипотеза: Если предложить 10% скидку на первую покупку для новых пользователей, то мы сможем повысить количество регистраций новых пользователей на 15%.\n",
        "\n",
        "Что мы делаем в каждой из групп: Даём код на 10% скидку на первую покупку.\n",
        "\n",
        "На каких пользователях мы тестируем: Новые пользователи, которые раньше не делали покупок на сайте.\n",
        "\n",
        "Метрика: количество новых регистраций пользователей.\n",
        "\n",
        "2. Гипотеза: Если предоставить персонализированные рекомендации по продуктам новым пользователям на основе их истории просмотров и покупательского поведения, то сможем повысить показатель дохода от новых пользователей на n%.\n",
        "\n",
        "Что мы делаем в каждой из групп: группа новых пользователей получает персонализированные рекомендации.\n",
        "\n",
        "На каких пользователях мы тестируем: На новых пользователях, совершивших хотя бы одну покупку на сайте\n",
        "\n",
        "Метрика: доход от новых пользователей.\n",
        "\n",
        "**Решение:**\n",
        "\n",
        "1. Соберём данные о регистрациях и доходах для контрольной и тестовой групп.\n",
        "2. Разделим данные на выборки – каждая выборка будет содержать 10,000 пользователей.\n",
        "3. Для каждой выборки будем считать количество новых регистраций и доход от новых пользователей для контрольной и тестовой групп.\n",
        "4. С помощью бутстрапа будем генерировать 1000 выборок с возвращением.\n",
        "5. Для каждой выборки будем считать различие между контрольной и тестовой групп в количестве новых регистраций и доходе от новых пользователей.\n",
        "6. Построим распределение полученных различий, оценим доверительные интервалы для обеих метрик.\n",
        "7. Если доверительный интервал не содержит 0 (для метрики регистраций) или отрицательных значений (для метрики дохода), то можем сделать вывод о том, что эксперимент был успешным и можно внедрять новые подходы в работу сервиса.\n"
      ]
    },
    {
      "cell_type": "code",
      "execution_count": 1,
      "metadata": {
        "id": "T5S_9Hjr937u"
      },
      "outputs": [],
      "source": [
        "import numpy as np\n",
        "import pandas as pd\n",
        "from scipy.stats import norm"
      ]
    },
    {
      "cell_type": "markdown",
      "metadata": {
        "id": "4Ih_svKO1si_"
      },
      "source": [
        "Собираем данные:"
      ]
    },
    {
      "cell_type": "code",
      "execution_count": 2,
      "metadata": {
        "id": "eAA6QXJ73nkx"
      },
      "outputs": [],
      "source": [
        "control_registrations = 10000\n",
        "test_registrations = 10000\n",
        "control_income = 1000000\n",
        "test_income = 1000000"
      ]
    },
    {
      "cell_type": "markdown",
      "metadata": {
        "id": "B0tAT4eT33OV"
      },
      "source": [
        " Разделяем данные на выборки:"
      ]
    },
    {
      "cell_type": "code",
      "execution_count": 3,
      "metadata": {
        "id": "dT4s6Rga37Be"
      },
      "outputs": [],
      "source": [
        "control_registrations_list = np.random.binomial(n=1, p=0.05, size=control_registrations)\n",
        "test_registrations_list = np.random.binomial(n=1, p=0.05, size=test_registrations)\n",
        "control_income_list = np.random.normal(loc=100, scale=20, size=control_income)\n",
        "test_income_list = np.random.normal(loc=110, scale=20, size=test_income)"
      ]
    },
    {
      "cell_type": "markdown",
      "metadata": {
        "id": "zEc4pV7C4DI-"
      },
      "source": [
        "Считаем количество регистраций и доход для контрольной и тестовой групп:"
      ]
    },
    {
      "cell_type": "code",
      "execution_count": 4,
      "metadata": {
        "id": "1EWyzXc04MiA"
      },
      "outputs": [],
      "source": [
        "control_registrations_num = sum(control_registrations_list)\n",
        "test_registrations_num = sum(test_registrations_list)\n",
        "control_income_sum = sum(control_income_list)\n",
        "test_income_sum = sum(test_income_list)"
      ]
    },
    {
      "cell_type": "markdown",
      "metadata": {
        "id": "MBeRk3s54XWs"
      },
      "source": [
        " Проводим бутстрап:"
      ]
    },
    {
      "cell_type": "code",
      "execution_count": 12,
      "metadata": {
        "id": "Mu_vC8Qi4g8t"
      },
      "outputs": [],
      "source": [
        "n = 1000\n",
        "differences_registrations = []\n",
        "differences_income = []\n",
        "\n",
        "for i in range(n):\n",
        "    control_registrations_sample = np.random.choice(control_registrations_list, size=10000, replace=True)\n",
        "    test_registrations_sample = np.random.choice(test_registrations_list, size=10000, replace=True)\n",
        "    control_income_sample = np.random.choice(control_income_list, size=10000, replace=True)\n",
        "    test_income_sample = np.random.choice(test_income_list, size=10000, replace=True)\n",
        "\n",
        "    sample_diff_registrations = sum(test_registrations_sample) - sum(control_registrations_sample)\n",
        "    sample_diff_income = sum(test_income_sample) - sum(control_income_sample)\n",
        "\n",
        "    differences_registrations.append(sample_diff_registrations)\n",
        "    differences_income.append(sample_diff_income)"
      ]
    },
    {
      "cell_type": "markdown",
      "metadata": {
        "id": "eNLar5W041U-"
      },
      "source": [
        "Оцениваем доверительный интервал для количества регистраций:"
      ]
    },
    {
      "cell_type": "code",
      "execution_count": 13,
      "metadata": {
        "colab": {
          "base_uri": "https://localhost:8080/"
        },
        "id": "CnVQZkL949jW",
        "outputId": "0619def7-dedd-4392-bb03-5e281b0ec3ba"
      },
      "outputs": [
        {
          "name": "stdout",
          "output_type": "stream",
          "text": [
            "95% доверительный интервал для количества регистраций:  (2.1601414525188245, 6.085858547481176)\n"
          ]
        }
      ],
      "source": [
        "difference_registrations_mean = np.mean(differences_registrations)\n",
        "difference_registrations_std = np.std(differences_registrations)\n",
        "ci_registrations = norm.interval(0.95, loc=difference_registrations_mean, scale=difference_registrations_std/np.sqrt(n))\n",
        "print(\"95% доверительный интервал для количества регистраций: \", ci_registrations)"
      ]
    },
    {
      "cell_type": "markdown",
      "metadata": {
        "id": "a88nOvTe5KHX"
      },
      "source": [
        "Оцениваем доверительный интервал для дохода:"
      ]
    },
    {
      "cell_type": "code",
      "execution_count": 14,
      "metadata": {
        "colab": {
          "base_uri": "https://localhost:8080/"
        },
        "id": "zx03KCPL5Tn0",
        "outputId": "043d8ac2-7aae-4646-f54b-5fbffc48c446"
      },
      "outputs": [
        {
          "name": "stdout",
          "output_type": "stream",
          "text": [
            "95% доверительный интервал для дохода:  (99828.60908853346, 100189.4563152156)\n"
          ]
        }
      ],
      "source": [
        "difference_income_mean = np.mean(differences_income)\n",
        "difference_income_std = np.std(differences_income)\n",
        "ci_income = norm.interval(0.95, loc=difference_income_mean, scale=difference_income_std/np.sqrt(n))\n",
        "print(\"95% доверительный интервал для дохода: \", ci_income)"
      ]
    },
    {
      "cell_type": "markdown",
      "metadata": {
        "id": "jVrS1oyu6HQt"
      },
      "source": [
        "**Ответ:**\n",
        "\n",
        "Так как, доверительный интервал не содержит 0 (для метрики регистраций) и отрицательных значений (для метрики дохода), то можем сделать вывод о том, что эксперимент был успешным и можно внедрять новые подходы в работу сервиса."
      ]
    }
  ],
  "metadata": {
    "colab": {
      "provenance": []
    },
    "kernelspec": {
      "display_name": "Python 3",
      "name": "python3"
    },
    "language_info": {
      "codemirror_mode": {
        "name": "ipython",
        "version": 3
      },
      "file_extension": ".py",
      "mimetype": "text/x-python",
      "name": "python",
      "nbconvert_exporter": "python",
      "pygments_lexer": "ipython3",
      "version": "3.10.7"
    }
  },
  "nbformat": 4,
  "nbformat_minor": 0
}
